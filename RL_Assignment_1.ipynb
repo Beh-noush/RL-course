{
  "nbformat": 4,
  "nbformat_minor": 0,
  "metadata": {
    "colab": {
      "name": "RL-Assignment_1.ipynb",
      "provenance": [],
      "collapsed_sections": [],
      "authorship_tag": "ABX9TyNYjemQrgtGP9FY6Loh6MCR",
      "include_colab_link": true
    },
    "kernelspec": {
      "name": "python3",
      "display_name": "Python 3"
    },
    "language_info": {
      "name": "python"
    }
  },
  "cells": [
    {
      "cell_type": "markdown",
      "metadata": {
        "id": "view-in-github",
        "colab_type": "text"
      },
      "source": [
        "<a href=\"https://colab.research.google.com/github/Beh-noush/RL-course/blob/main/RL_Assignment_1.ipynb\" target=\"_parent\"><img src=\"https://colab.research.google.com/assets/colab-badge.svg\" alt=\"Open In Colab\"/></a>"
      ]
    },
    {
      "cell_type": "markdown",
      "metadata": {
        "id": "K_qqiTow3f9v"
      },
      "source": [
        "# 10-Armed Bandit"
      ]
    },
    {
      "cell_type": "code",
      "metadata": {
        "id": "m2wDNAvw399P"
      },
      "source": [
        "import numpy as np\n",
        "import matplotlib.pyplot as plt\n",
        "import math\n",
        "import tqdm\n"
      ],
      "execution_count": null,
      "outputs": []
    },
    {
      "cell_type": "code",
      "metadata": {
        "id": "d1bcy5b13c0r"
      },
      "source": [
        "class bandit():\n",
        "  def __init__(self, num_arms):\n",
        "    self.num_arms = num_arms\n",
        "    self.arms_array = np.random.randn(self.num_arms)\n",
        "  def __str__(self):\n",
        "    return ( f' bandit with {self.num_arms} arms with action values {self.arms_array} respectively')\n",
        "  def pull(self, arm):\n",
        "    '''\n",
        "    Inputs:\n",
        "          arm: integer\n",
        "          the index of arm going from 0 to num_arms-1.\n",
        "\n",
        "    Returns:\n",
        "         float number\n",
        "         Action value of the given arm\n",
        "    '''\n",
        "    return np.random.normal(self.arms_array[arm], 1)"
      ],
      "execution_count": null,
      "outputs": []
    },
    {
      "cell_type": "code",
      "metadata": {
        "id": "8EwSrSfN4MB0"
      },
      "source": [
        "b = bandit(10)"
      ],
      "execution_count": null,
      "outputs": []
    },
    {
      "cell_type": "code",
      "metadata": {
        "colab": {
          "base_uri": "https://localhost:8080/"
        },
        "id": "P5RFxaYh4MzE",
        "outputId": "cefcca03-1cdd-44a4-b650-b2901798c5c5"
      },
      "source": [
        "print(b)"
      ],
      "execution_count": null,
      "outputs": [
        {
          "output_type": "stream",
          "name": "stdout",
          "text": [
            " bandit with 10 arms with action values [ 0.95178875  0.41387445 -0.81507953  0.96278514 -2.08070376  1.75321522\n",
            " -0.71769927  0.5160645  -0.85888987  0.38924645] respectively\n"
          ]
        }
      ]
    },
    {
      "cell_type": "code",
      "metadata": {
        "colab": {
          "base_uri": "https://localhost:8080/"
        },
        "id": "Vv1hXQIm40xZ",
        "outputId": "7300afc9-8f8d-4de9-e7e9-ec1bf0268320"
      },
      "source": [
        "b.pull(3)"
      ],
      "execution_count": null,
      "outputs": [
        {
          "output_type": "execute_result",
          "data": {
            "text/plain": [
              "0.9732667944210057"
            ]
          },
          "metadata": {},
          "execution_count": 5
        }
      ]
    },
    {
      "cell_type": "markdown",
      "metadata": {
        "id": "2UcGfmhvq2Zr"
      },
      "source": [
        "\\epsilon-greedy method with 1000 pulls."
      ]
    },
    {
      "cell_type": "code",
      "metadata": {
        "id": "dlN4HNN66M4M"
      },
      "source": [
        "# #1 - Define the sample averaged action value\n",
        "# def sample_av_action_val(bandit, arm, num):\n",
        "#   if num ==1:\n",
        "#     return bandit.pull(arm)\n",
        "#   else:\n",
        "#     return sample_av_action_val(bandit, arm, num-1) + bandit.pull(arm)/num\n"
      ],
      "execution_count": null,
      "outputs": []
    },
    {
      "cell_type": "code",
      "metadata": {
        "id": "U3qwJwz-smLg"
      },
      "source": [
        "#Greedy  First\n",
        "num_arms = 10\n",
        "num_pulls = 1000\n",
        "my_bandit =  bandit(num_arms)\n",
        "action_val = np.zeros(num_arms)\n",
        "num_pull_arm = np.zeros(num_arms)\n",
        "total_rew = 0\n",
        "av_reward_list = []\n",
        "count = 0\n",
        "for pull in range(num_pulls):\n",
        "  count += 1\n",
        "  arm = np.argmax(action_val)\n",
        "  num_pull_arm[arm]  +=1\n",
        "  reward = my_bandit.pull(arm)\n",
        "  total_rew += reward\n",
        "  av_reward_list.append(total_rew/count)\n",
        "  action_val[arm] += reward/num_pull_arm[arm]\n",
        "\n"
      ],
      "execution_count": null,
      "outputs": []
    },
    {
      "cell_type": "code",
      "metadata": {
        "colab": {
          "base_uri": "https://localhost:8080/",
          "height": 280
        },
        "id": "qo313JnwymnS",
        "outputId": "19359777-c990-4357-ca2b-8e75774da4da"
      },
      "source": [
        "plt.plot( list(range(num_pulls)), av_reward_list)"
      ],
      "execution_count": null,
      "outputs": [
        {
          "output_type": "execute_result",
          "data": {
            "text/plain": [
              "[<matplotlib.lines.Line2D at 0x7f38dfde1290>]"
            ]
          },
          "metadata": {},
          "execution_count": 4
        },
        {
          "output_type": "display_data",
          "data": {
            "image/png": "[encoded data removed]",
            "text/plain": [
              "<Figure size 432x288 with 1 Axes>"
            ]
          },
          "metadata": {
            "needs_background": "light"
          }
        }
      ]
    },
    {
      "cell_type": "code",
      "metadata": {
        "id": "8vyKlpd1yx2c"
      },
      "source": [
        "#Now, epsilon-Greedy\n",
        "epsilon = 0.1\n",
        "num_arms = 10\n",
        "num_pulls = 1000\n",
        "\n",
        "def train_bandit(epsilon, num_arms = 10 ,num_pulls = 1000, optimistic = False, optim_action_value=None ):\n",
        "    my_bandit =  bandit(num_arms)\n",
        "    action_val = np.zeros(num_arms)\n",
        "    if optimistic:\n",
        "      action_val = optim_action_value*np.ones(num_arms)\n",
        "\n",
        "    num_pull_arm = np.zeros(num_arms)\n",
        "    total_rew = 0\n",
        "    av_reward_list = []\n",
        "    count = 0\n",
        "    greedy = True\n",
        "    for pull in range(num_pulls):\n",
        "      random_num = np.random.uniform(0,1)\n",
        "      if random_num>epsilon:\n",
        "        greedy = True\n",
        "      else:\n",
        "        greedy = False\n",
        "      count += 1\n",
        "      if greedy:\n",
        "        arm = np.argmax(action_val)\n",
        "      else:\n",
        "        arm = np.random.randint(0,10)\n",
        "      num_pull_arm[arm]  +=1\n",
        "      reward = my_bandit.pull(arm)\n",
        "      total_rew += reward\n",
        "      av_reward_list.append(total_rew/count)\n",
        "      action_val[arm] += reward/num_pull_arm[arm]\n",
        "    return av_reward_list"
      ],
      "execution_count": null,
      "outputs": []
    },
    {
      "cell_type": "code",
      "metadata": {
        "id": "P-qn2ZZKjXA0"
      },
      "source": [
        "import tqdm\n",
        "n_run = 2000\n",
        "reward_array_1 = np.zeros(num_pulls)\n",
        "reward_array_2 = np.zeros(num_pulls)\n",
        "reward_array_3 = np.zeros(num_pulls)\n",
        "reward_array_4 = np.zeros(num_pulls)\n",
        "for n in range(n_run):\n",
        "  reward_array_1 += train_bandit(.1)\n",
        "  reward_array_2 += train_bandit(.01)\n",
        "  reward_array_3 += train_bandit(0.)\n",
        "  reward_array_4 += train_bandit(.9)\n",
        "reward_array_1 = reward_array_1/n_run\n",
        "reward_array_2 = reward_array_2/n_run\n",
        "reward_array_3 = reward_array_3/n_run\n",
        "reward_array_4 = reward_array_1/n_run\n"
      ],
      "execution_count": null,
      "outputs": []
    },
    {
      "cell_type": "code",
      "metadata": {
        "colab": {
          "base_uri": "https://localhost:8080/",
          "height": 280
        },
        "id": "ZX-Mkm4fnF8A",
        "outputId": "6e6bce7e-a9a5-4efa-d34b-f6bd99e61e16"
      },
      "source": [
        "plt.plot( list(range(num_pulls)), reward_array_1, label= 'eps. = .1')\n",
        "plt.plot( list(range(num_pulls)), reward_array_2, label = 'eps = .01')\n",
        "plt.plot( list(range(num_pulls)), reward_array_3, label = 'eps = 0')\n",
        "plt.plot( list(range(num_pulls)), reward_array_4, label = 'eps = .9')\n",
        "plt.legend()"
      ],
      "execution_count": null,
      "outputs": [
        {
          "output_type": "execute_result",
          "data": {
            "text/plain": [
              "<matplotlib.legend.Legend at 0x7f38db1c0a50>"
            ]
          },
          "metadata": {},
          "execution_count": 44
        },
        {
          "output_type": "display_data",
          "data": {
            "image/png": "[encoded data removed]",
            "text/plain": [
              "<Figure size 432x288 with 1 Axes>"
            ]
          },
          "metadata": {
            "needs_background": "light"
          }
        }
      ]
    },
    {
      "cell_type": "code",
      "metadata": {
        "colab": {
          "base_uri": "https://localhost:8080/",
          "height": 280
        },
        "id": "XUEsUQzBn5Vv",
        "outputId": "76889a03-77da-4ce7-b463-bb8ed72d6493"
      },
      "source": [
        "plt.plot( list(range(num_pulls)), reward_array_4, label = 'eps = .9')\n",
        "plt.legend()"
      ],
      "execution_count": null,
      "outputs": [
        {
          "output_type": "execute_result",
          "data": {
            "text/plain": [
              "<matplotlib.legend.Legend at 0x7f38db08e790>"
            ]
          },
          "metadata": {},
          "execution_count": 46
        },
        {
          "output_type": "display_data",
          "data": {
            "image/png": "[encoded data removed]",
            "text/plain": [
              "<Figure size 432x288 with 1 Axes>"
            ]
          },
          "metadata": {
            "needs_background": "light"
          }
        }
      ]
    },
    {
      "cell_type": "code",
      "metadata": {
        "colab": {
          "base_uri": "https://localhost:8080/",
          "height": 280
        },
        "id": "hUcHN2PN1LDh",
        "outputId": "fc64dff4-125c-49ca-c9de-a1d4a8e0e289"
      },
      "source": [
        "plt.plot( list(range(num_pulls)), av_reward_list_1, label= 'eps. = .1')\n",
        "plt.plot( list(range(num_pulls)), av_reward_list_2, label = 'eps = .01')\n",
        "plt.plot( list(range(num_pulls)), av_reward_list_3, label = 'eps = 0')\n",
        "plt.plot( list(range(num_pulls)), av_reward_list_4, label = 'eps = .9')\n",
        "plt.legend()"
      ],
      "execution_count": null,
      "outputs": [
        {
          "output_type": "execute_result",
          "data": {
            "text/plain": [
              "<matplotlib.legend.Legend at 0x7f38df5d71d0>"
            ]
          },
          "metadata": {},
          "execution_count": 21
        },
        {
          "output_type": "display_data",
          "data": {
            "image/png": "[encoded data removed]",
            "text/plain": [
              "<Figure size 432x288 with 1 Axes>"
            ]
          },
          "metadata": {
            "needs_background": "light"
          }
        }
      ]
    },
    {
      "cell_type": "markdown",
      "metadata": {
        "id": "q8Q6kAlFoeyJ"
      },
      "source": [
        "Optimistice versus non_optimistic"
      ]
    },
    {
      "cell_type": "code",
      "metadata": {
        "colab": {
          "base_uri": "https://localhost:8080/"
        },
        "id": "Dgk9_MZ2k3ta",
        "outputId": "c9f544ff-16f7-44a6-8509-72c43c094a82"
      },
      "source": [
        "from tqdm import tqdm\n",
        "n_run = 2000\n",
        "reward_array_optim = np.zeros(num_pulls)\n",
        "for n in tqdm(range(n_run), position = 0, leave = True ):\n",
        "  reward_array_optim += train_bandit(0, optimistic= True, optim_action_value= 3)\n",
        "reward_array_optim = reward_array_optim/n_run\n"
      ],
      "execution_count": null,
      "outputs": [
        {
          "output_type": "stream",
          "name": "stderr",
          "text": [
            "100%|██████████| 2000/2000 [00:31<00:00, 63.59it/s]\n"
          ]
        }
      ]
    },
    {
      "cell_type": "code",
      "metadata": {
        "colab": {
          "base_uri": "https://localhost:8080/",
          "height": 296
        },
        "id": "Lkqynr9_lTtx",
        "outputId": "f49bd3cf-9f38-4f41-83d2-2cd58c1b95f0"
      },
      "source": [
        "plt.title('epsilon = 0')\n",
        "plt.plot( list(range(num_pulls)), reward_array_3, label = 'ordinary')\n",
        "plt.plot( list(range(num_pulls)), reward_array_optim, label = 'optimistic')\n",
        "plt.legend()\n"
      ],
      "execution_count": null,
      "outputs": [
        {
          "output_type": "execute_result",
          "data": {
            "text/plain": [
              "<matplotlib.legend.Legend at 0x7f38daa458d0>"
            ]
          },
          "metadata": {},
          "execution_count": 51
        },
        {
          "output_type": "display_data",
          "data": {
            "image/png": "[encoded data removed]",
            "text/plain": [
              "<Figure size 432x288 with 1 Axes>"
            ]
          },
          "metadata": {
            "needs_background": "light"
          }
        }
      ]
    },
    {
      "cell_type": "code",
      "metadata": {
        "colab": {
          "base_uri": "https://localhost:8080/"
        },
        "id": "-wouiadKomo4",
        "outputId": "58d42077-c5c7-4eb9-835c-fb3f4cb62719"
      },
      "source": [
        "from tqdm import tqdm\n",
        "n_run = 2000\n",
        "reward_array_optim_100 = np.zeros(num_pulls)\n",
        "for n in tqdm(range(n_run), position = 0, leave = True ):\n",
        "  reward_array_optim_100 += train_bandit(0, optimistic= True, optim_action_value= 100)\n",
        "reward_array_optim_100 = reward_array_optim_100/n_run\n"
      ],
      "execution_count": null,
      "outputs": [
        {
          "output_type": "stream",
          "name": "stderr",
          "text": [
            "100%|██████████| 2000/2000 [00:30<00:00, 65.86it/s]\n"
          ]
        }
      ]
    },
    {
      "cell_type": "code",
      "metadata": {
        "colab": {
          "base_uri": "https://localhost:8080/",
          "height": 296
        },
        "id": "le7xPjvgomkh",
        "outputId": "29ee95fb-18c3-4c16-c909-c25a4189e6b1"
      },
      "source": [
        "#Q-5 \n",
        "plt.title('epsilon = 0')\n",
        "plt.plot( list(range(num_pulls)), reward_array_3, label = 'ordinary')\n",
        "plt.plot( list(range(num_pulls)), reward_array_optim, label = 'optimistic +3')\n",
        "plt.plot( list(range(num_pulls)), reward_array_optim_100, label = 'optimistic +100')\n",
        "plt.legend()\n"
      ],
      "execution_count": null,
      "outputs": [
        {
          "output_type": "execute_result",
          "data": {
            "text/plain": [
              "<matplotlib.legend.Legend at 0x7f38da8d82d0>"
            ]
          },
          "metadata": {},
          "execution_count": 53
        },
        {
          "output_type": "display_data",
          "data": {
            "image/png": "[encoded data removed]",
            "text/plain": [
              "<Figure size 432x288 with 1 Axes>"
            ]
          },
          "metadata": {
            "needs_background": "light"
          }
        }
      ]
    },
    {
      "cell_type": "code",
      "metadata": {
        "colab": {
          "base_uri": "https://localhost:8080/"
        },
        "id": "B65yr_SHvUeC",
        "outputId": "13c0d14d-7213-486e-9955-b05f0ea93e85"
      },
      "source": [
        "a"
      ],
      "execution_count": null,
      "outputs": [
        {
          "output_type": "execute_result",
          "data": {
            "text/plain": [
              "[1, 2, 3, 4]"
            ]
          },
          "metadata": {},
          "execution_count": 58
        }
      ]
    },
    {
      "cell_type": "code",
      "metadata": {
        "colab": {
          "base_uri": "https://localhost:8080/"
        },
        "id": "rbk_joV6vOTL",
        "outputId": "c7eb43b4-ecce-4cf7-bcf5-536a108f47b9"
      },
      "source": [
        "import math\n",
        "math.log(2)/np.array(a)"
      ],
      "execution_count": null,
      "outputs": [
        {
          "output_type": "execute_result",
          "data": {
            "text/plain": [
              "array([0.69314718, 0.34657359, 0.23104906, 0.1732868 ])"
            ]
          },
          "metadata": {},
          "execution_count": 59
        }
      ]
    },
    {
      "cell_type": "code",
      "metadata": {
        "id": "ziXhQBPTwS02"
      },
      "source": [
        "num_arms = 10\n",
        "c= 2\n",
        "num_pulls = 1000\n",
        "my_bandit =  bandit(num_arms)\n",
        "action_val = np.zeros(num_arms)\n",
        "c = 2\n",
        "num_pull_arm = np.zeros(num_arms) #How many times a specific arm was chosen.\n",
        "total_rew = 0 #The whole reward accumulated over all pulls\n",
        "av_reward_list = [] #average means the average of the total reward till time t, over the number of pulls till then\n",
        "count = 0\n",
        "\n",
        "for pull in range(num_pulls):\n",
        "  count += 1\n",
        "  arm = np.argmax(action_val + c* (math.log(count)/(.1+num_pull_arm))**(.5))\n"
      ],
      "execution_count": null,
      "outputs": []
    },
    {
      "cell_type": "code",
      "metadata": {
        "colab": {
          "base_uri": "https://localhost:8080/"
        },
        "id": "8gHdHsPWwvcL",
        "outputId": "929695ed-5dd7-463f-9fb3-9f8b0b448710"
      },
      "source": [
        "c = 2\n",
        "c*(math.log(count)/(.1+num_pull_arm))**(.5)"
      ],
      "execution_count": null,
      "outputs": [
        {
          "output_type": "execute_result",
          "data": {
            "text/plain": [
              "array([16.62258136, 16.62258136, 16.62258136, 16.62258136, 16.62258136,\n",
              "       16.62258136, 16.62258136, 16.62258136, 16.62258136, 16.62258136])"
            ]
          },
          "metadata": {},
          "execution_count": 88
        }
      ]
    },
    {
      "cell_type": "code",
      "metadata": {
        "id": "MZSxbgGkomf-"
      },
      "source": [
        "#Q-6: UCB algorithm\n",
        "\n",
        "#Now, epsilon-Greedy\n",
        "import math\n",
        "num_arms = 10\n",
        "num_pulls = 1000\n",
        "\n",
        "def train_bandit_ucb(c, num_arms = 10 ,num_pulls = 1000 ):\n",
        "    my_bandit =  bandit(num_arms)\n",
        "    action_val = np.zeros(num_arms)\n",
        "    # if optimistic:\n",
        "    #   action_val = optim_action_value*np.ones(num_arms)\n",
        "\n",
        "    num_pull_arm = np.zeros(num_arms) #How many times a specific arm was chosen.\n",
        "    total_rew = 0 #The whole reward accumulated over all pulls\n",
        "    av_reward_list = [] #average means the average of the total reward till time t, over the number of pulls till then\n",
        "    count = 0\n",
        "  #  greedy = True\n",
        "    for pull in range(num_pulls):\n",
        "      # random_num = np.random.uniform(0,1)\n",
        "      # if random_num>epsilon:\n",
        "      #   greedy = True\n",
        "      # else:\n",
        "      #   greedy = False\n",
        "      count += 1\n",
        "    #  if greedy:\n",
        "      arm = np.argmax(action_val + c* (math.log(count)/(.1+num_pull_arm))**(.5))\n",
        "      # else:\n",
        "      #   arm = np.random.randint(0,10)\n",
        "      num_pull_arm[arm]  +=1\n",
        "      reward = my_bandit.pull(arm)\n",
        "      total_rew += reward\n",
        "      av_reward_list.append(total_rew/count)\n",
        "      action_val[arm] += reward/num_pull_arm[arm]\n",
        "    return av_reward_list\n"
      ],
      "execution_count": null,
      "outputs": []
    },
    {
      "cell_type": "code",
      "metadata": {
        "colab": {
          "base_uri": "https://localhost:8080/"
        },
        "id": "TBiLsOUGombp",
        "outputId": "ad02d5d9-edc0-4354-a896-12b7295aec61"
      },
      "source": [
        "# For c= .2, 1, 5\n",
        "n_run = 2000\n",
        "num_pulls = 1000\n",
        "reward_1 = np.zeros(num_pulls)\n",
        "reward_2 = np.zeros(num_pulls)\n",
        "reward_3 = np.zeros(num_pulls)\n",
        "for n in tqdm(range(n_run), position= 0 , leave = True):\n",
        "  reward_1 += train_bandit_ucb(.2)\n",
        "  reward_2 += train_bandit_ucb(1)\n",
        "  reward_3 += train_bandit_ucb(5)\n",
        "reward_1 = reward_1/n_run\n",
        "reward_2 = reward_2/n_run\n",
        "reward_3 = reward_3/n_run\n"
      ],
      "execution_count": null,
      "outputs": [
        {
          "output_type": "stream",
          "name": "stderr",
          "text": [
            "100%|██████████| 2000/2000 [02:03<00:00, 16.25it/s]\n"
          ]
        }
      ]
    },
    {
      "cell_type": "code",
      "metadata": {
        "colab": {
          "base_uri": "https://localhost:8080/",
          "height": 296
        },
        "id": "dBRGL_UZomXT",
        "outputId": "a471280a-9496-4b97-ccae-729911ba0974"
      },
      "source": [
        "#Q-5 \n",
        "plt.title('ucb')\n",
        "plt.plot( list(range(num_pulls)), reward_1, label = 'c = .2')\n",
        "plt.plot( list(range(num_pulls)), reward_2, label = 'c = 1 ')\n",
        "plt.plot( list(range(num_pulls)), reward_3, label = 'c = 5')\n",
        "plt.legend()\n"
      ],
      "execution_count": null,
      "outputs": [
        {
          "output_type": "execute_result",
          "data": {
            "text/plain": [
              "<matplotlib.legend.Legend at 0x7f38da860050>"
            ]
          },
          "metadata": {},
          "execution_count": 93
        },
        {
          "output_type": "display_data",
          "data": {
            "image/png": "[encoded data removed]",
            "text/plain": [
              "<Figure size 432x288 with 1 Axes>"
            ]
          },
          "metadata": {
            "needs_background": "light"
          }
        }
      ]
    },
    {
      "cell_type": "markdown",
      "metadata": {
        "id": "KhiyI86bq9sp"
      },
      "source": [
        "Gradient bandit"
      ]
    },
    {
      "cell_type": "code",
      "metadata": {
        "id": "c8hl3Wudt8Vy"
      },
      "source": [
        "def softmax(a):\n",
        "  '''\n",
        "  input: numpy array\n",
        "\n",
        "  output: numpy array of the same size as input \n",
        "  '''\n",
        "  partition_func = np.sum(np.exp(a))\n",
        "  return np.exp(a)/partition_func\n"
      ],
      "execution_count": null,
      "outputs": []
    },
    {
      "cell_type": "code",
      "metadata": {
        "colab": {
          "base_uri": "https://localhost:8080/"
        },
        "id": "XUwLmdDfueun",
        "outputId": "5495c8ef-0905-44ca-c335-25b50e7510a8"
      },
      "source": [
        "softmax([1,-3,7,-500])#.sum()"
      ],
      "execution_count": null,
      "outputs": [
        {
          "output_type": "execute_result",
          "data": {
            "text/plain": [
              "array([2.47251118e-003, 4.52856220e-005, 9.97482203e-001, 6.48041518e-221])"
            ]
          },
          "metadata": {},
          "execution_count": 71
        }
      ]
    },
    {
      "cell_type": "code",
      "metadata": {
        "id": "yLAeXm7T2vdh"
      },
      "source": [
        "def sample_softmax(vec):\n",
        "  '''\n",
        "  input: numpy array (vector)\n",
        "         vector summing up to 1 containing the values of the softmax function\n",
        "  output: int\n",
        "         the index of the chosen entry of the vector\n",
        "  '''\n",
        "  length = len(vec)\n",
        "  l = [(0, vec[0])]\n",
        "\n",
        "  for i in range(1, length):\n",
        "    l.append(  (l[i-1][1], l[i-1][1]+vec[i])  )\n",
        "  random_number = np.random.uniform(0,1)\n",
        "  for i,j in enumerate(l):\n",
        "    if j[0] <=random_number<= j[1]:\n",
        "      return i\n",
        "    # else:\n",
        "    #   print(f'random_number = {random_number}')\n",
        "    #   print(vec,l)"
      ],
      "execution_count": null,
      "outputs": []
    },
    {
      "cell_type": "code",
      "metadata": {
        "colab": {
          "base_uri": "https://localhost:8080/"
        },
        "id": "WHD-5d3Dukp7",
        "outputId": "009ea149-bcb2-43f5-a37c-dfde6405258a"
      },
      "source": [
        "b = softmax(np.array([1,2,3,4]))\n",
        "b"
      ],
      "execution_count": null,
      "outputs": [
        {
          "output_type": "execute_result",
          "data": {
            "text/plain": [
              "array([0.0320586 , 0.08714432, 0.23688282, 0.64391426])"
            ]
          },
          "metadata": {},
          "execution_count": 62
        }
      ]
    },
    {
      "cell_type": "code",
      "metadata": {
        "colab": {
          "base_uri": "https://localhost:8080/"
        },
        "id": "oGQA5kMB4q1m",
        "outputId": "874d454b-abea-46c2-cfe0-775e14b721b3"
      },
      "source": [
        "sample_softmax(b)"
      ],
      "execution_count": null,
      "outputs": [
        {
          "output_type": "stream",
          "name": "stdout",
          "text": [
            "random_number = 0.6012408072734424\n",
            "[(0, 0.03205860328008499), (0.03205860328008499, 0.11920292202211756), (0.11920292202211756, 0.3560857401120277), (0.3560857401120277, 1.0)]\n",
            "random_number = 0.6012408072734424\n",
            "[(0, 0.03205860328008499), (0.03205860328008499, 0.11920292202211756), (0.11920292202211756, 0.3560857401120277), (0.3560857401120277, 1.0)]\n",
            "random_number = 0.6012408072734424\n",
            "[(0, 0.03205860328008499), (0.03205860328008499, 0.11920292202211756), (0.11920292202211756, 0.3560857401120277), (0.3560857401120277, 1.0)]\n"
          ]
        },
        {
          "output_type": "execute_result",
          "data": {
            "text/plain": [
              "3"
            ]
          },
          "metadata": {},
          "execution_count": 63
        }
      ]
    },
    {
      "cell_type": "code",
      "metadata": {
        "id": "hs0z7GqxomTm"
      },
      "source": [
        "#Q-7: Gradient bandit\n",
        "#Here, instead of taking sample average, we use updated prefernce functions.\n",
        "#So, preference functions are initialized to zero. We define probability of taking each action through a softmax function over the prefernce vector. \n",
        "#Then, the probability is updated by comparing the immediate reward at each step with the average reward until that step. \n",
        "#After each prob. update, one bandit arm is taken by the corresponding probability, through a sampling process. \n",
        "\n",
        " \n",
        "def gradient_bandit(num_arms, num_pulls):\n",
        "  my_bandit = bandit(num_arms)\n",
        "  preferences = np.zeros(num_arms)\n",
        "  probabilities = softmax(preferences)\n",
        "  total_reward = 0\n",
        "  total_rew_av = 0\n",
        "  av_rew = []\n",
        "  arm = np.random.randint(num_arms)\n",
        "  count = 0\n",
        "  for n in range(num_pulls):\n",
        "    count += 1\n",
        "    rew = my_bandit.pull(arm)\n",
        "    probabilities += (rew - total_reward)*( - probabilities)\n",
        "    probabilities[arm] += (rew - total_reward)\n",
        "    arm = sample_softmax(probabilities)\n",
        "    total_reward += rew\n",
        "    total_rew_av = total_reward/count\n",
        "    av_rew.append(total_rew_av)\n",
        "\n",
        "  return av_rew\n"
      ],
      "execution_count": null,
      "outputs": []
    },
    {
      "cell_type": "code",
      "metadata": {
        "colab": {
          "base_uri": "https://localhost:8080/"
        },
        "id": "kX1b40LQMk-_",
        "outputId": "4e0ce18e-404a-417d-e472-087d335e2a07"
      },
      "source": [
        "my_bandit.pull(None)"
      ],
      "execution_count": null,
      "outputs": [
        {
          "output_type": "execute_result",
          "data": {
            "text/plain": [
              "array([[-0.31978232,  0.00722898, -0.21009193, -2.9543908 , -0.5919176 ,\n",
              "         0.90316578,  3.21408848,  1.30375234, -1.86159506, -0.05627898]])"
            ]
          },
          "metadata": {},
          "execution_count": 47
        }
      ]
    },
    {
      "cell_type": "code",
      "metadata": {
        "colab": {
          "base_uri": "https://localhost:8080/"
        },
        "id": "_fPE2NefnDih",
        "outputId": "dc2468e9-5789-40fa-a461-e5a669cdb21b"
      },
      "source": [
        "np.array()"
      ],
      "execution_count": null,
      "outputs": [
        {
          "output_type": "execute_result",
          "data": {
            "text/plain": [
              "-200.0"
            ]
          },
          "metadata": {},
          "execution_count": 64
        }
      ]
    },
    {
      "cell_type": "code",
      "metadata": {
        "id": "BKUlJZn-MsOu"
      },
      "source": [
        "  num_arms = 10\n",
        "  num_pulls = 2000\n",
        "  my_bandit = bandit(num_arms)\n",
        "  preferences = np.zeros(num_arms)\n",
        "  probabilities = softmax(preferences)\n",
        "  total_reward = 0\n",
        "  total_rew_av = 0\n",
        "  av_rew = []\n",
        "  arm = np.random.randint(num_arms)\n",
        "  count = 0\n",
        "  for n in range(num_pulls):\n",
        "    count += 1\n",
        "    rew = my_bandit.pull(arm)\n",
        "    preferences += .4*(rew - total_reward)*( - probabilities)\n",
        "    preferences[arm] += .4*(rew - total_reward)\n",
        "    probabilities = softmax(preferences)\n",
        "\n",
        "    arm = sample_softmax(probabilities)\n",
        "    total_reward += rew\n",
        "    total_rew_av = total_reward/count\n",
        "    av_rew.append(total_rew_av)\n"
      ],
      "execution_count": null,
      "outputs": []
    },
    {
      "cell_type": "code",
      "metadata": {
        "colab": {
          "base_uri": "https://localhost:8080/"
        },
        "id": "otqUkL4omLlw",
        "outputId": "b727145c-9a85-45a8-ffdd-8cc9cddfcdb3"
      },
      "source": [
        "print(my_bandit)"
      ],
      "execution_count": null,
      "outputs": [
        {
          "output_type": "stream",
          "name": "stdout",
          "text": [
            " bandit with 10 arms with action values [ 1.69162365  0.27802074 -0.79141885 -0.42227662  1.50305839 -0.96878696\n",
            " -0.04613159  0.29096601  0.46984134  0.02626467] respectively\n"
          ]
        }
      ]
    },
    {
      "cell_type": "code",
      "metadata": {
        "colab": {
          "base_uri": "https://localhost:8080/"
        },
        "id": "hCWhoph7mQBa",
        "outputId": "010530c3-5299-47f6-fd73-c49e1b90c090"
      },
      "source": [
        "my_bandit.pull(9)"
      ],
      "execution_count": null,
      "outputs": [
        {
          "output_type": "execute_result",
          "data": {
            "text/plain": [
              "0.8320945365937604"
            ]
          },
          "metadata": {},
          "execution_count": 39
        }
      ]
    },
    {
      "cell_type": "code",
      "metadata": {
        "id": "o5cM-uoQltmZ"
      },
      "source": [
        "arm"
      ],
      "execution_count": null,
      "outputs": []
    },
    {
      "cell_type": "code",
      "metadata": {
        "colab": {
          "base_uri": "https://localhost:8080/"
        },
        "id": "Qmq3En2Jh_0V",
        "outputId": "6b8e374d-bbf6-45aa-cef1-b4120eb9494b"
      },
      "source": [
        "my_bandit.pull(np.random.randint(num_arms))"
      ],
      "execution_count": null,
      "outputs": [
        {
          "output_type": "execute_result",
          "data": {
            "text/plain": [
              "-0.9929023440124931"
            ]
          },
          "metadata": {},
          "execution_count": 12
        }
      ]
    },
    {
      "cell_type": "code",
      "metadata": {
        "colab": {
          "base_uri": "https://localhost:8080/"
        },
        "id": "3UymaQScOATd",
        "outputId": "42870eb1-c2b4-4f59-bf98-1289672be0ce"
      },
      "source": [
        "rew "
      ],
      "execution_count": null,
      "outputs": [
        {
          "output_type": "execute_result",
          "data": {
            "text/plain": [
              "2.3515366350399316"
            ]
          },
          "metadata": {},
          "execution_count": 77
        }
      ]
    },
    {
      "cell_type": "code",
      "metadata": {
        "colab": {
          "base_uri": "https://localhost:8080/",
          "height": 280
        },
        "id": "g7DWNAs_lAxI",
        "outputId": "1b5e7175-4c6f-42e5-ab60-573fc435c739"
      },
      "source": [
        "plt.plot(list(range(num_pulls)), av_rew)"
      ],
      "execution_count": null,
      "outputs": [
        {
          "output_type": "execute_result",
          "data": {
            "text/plain": [
              "[<matplotlib.lines.Line2D at 0x7f8f531d6150>]"
            ]
          },
          "metadata": {},
          "execution_count": 78
        },
        {
          "output_type": "display_data",
          "data": {
            "image/png": "[encoded data removed]",
            "text/plain": [
              "<Figure size 432x288 with 1 Axes>"
            ]
          },
          "metadata": {
            "needs_background": "light"
          }
        }
      ]
    },
    {
      "cell_type": "code",
      "metadata": {
        "colab": {
          "base_uri": "https://localhost:8080/"
        },
        "id": "N7rBlyaMODak",
        "outputId": "dd73ebf7-8db8-4ce8-fe93-cee994b67a76"
      },
      "source": [
        "Thank total_reward"
      ],
      "execution_count": null,
      "outputs": [
        {
          "output_type": "execute_result",
          "data": {
            "text/plain": [
              "-158.22932108950346"
            ]
          },
          "metadata": {},
          "execution_count": 20
        }
      ]
    },
    {
      "cell_type": "code",
      "metadata": {
        "colab": {
          "base_uri": "https://localhost:8080/"
        },
        "id": "IanWc8CKOXao",
        "outputId": "e55e5476-16f0-4008-8647-fa044dbbc573"
      },
      "source": [
        "my_bandit.pull(1)"
      ],
      "execution_count": null,
      "outputs": [
        {
          "output_type": "execute_result",
          "data": {
            "text/plain": [
              "-0.1641208985965159"
            ]
          },
          "metadata": {},
          "execution_count": 18
        }
      ]
    },
    {
      "cell_type": "code",
      "metadata": {
        "id": "2_894hNkOfX3"
      },
      "source": [
        "  num_arms = 10\n",
        "  num_pulls = 200\n",
        "  my_bandit = bandit(num_arms)"
      ],
      "execution_count": null,
      "outputs": []
    },
    {
      "cell_type": "code",
      "metadata": {
        "colab": {
          "base_uri": "https://localhost:8080/"
        },
        "id": "jP_87BLkOu_2",
        "outputId": "41c74b84-84ac-469e-99fd-14dc3a2f866c"
      },
      "source": [
        "my_bandit.pull([1,2])"
      ],
      "execution_count": null,
      "outputs": [
        {
          "output_type": "execute_result",
          "data": {
            "text/plain": [
              "array([ 2.45744187, -0.9715286 ])"
            ]
          },
          "metadata": {},
          "execution_count": 25
        }
      ]
    },
    {
      "cell_type": "code",
      "metadata": {
        "id": "AKCKPRDoj5tB"
      },
      "source": [
        ""
      ],
      "execution_count": null,
      "outputs": []
    }
  ]
}